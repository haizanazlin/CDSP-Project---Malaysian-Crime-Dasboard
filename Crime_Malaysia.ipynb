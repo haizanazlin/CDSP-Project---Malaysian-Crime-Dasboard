{
  "nbformat": 4,
  "nbformat_minor": 0,
  "metadata": {
    "colab": {
      "provenance": [],
      "authorship_tag": "ABX9TyPEclhY/pWy7XcqkEGXgY0K",
      "include_colab_link": true
    },
    "kernelspec": {
      "name": "python3",
      "display_name": "Python 3"
    },
    "language_info": {
      "name": "python"
    }
  },
  "cells": [
    {
      "cell_type": "markdown",
      "metadata": {
        "id": "view-in-github",
        "colab_type": "text"
      },
      "source": [
        "<a href=\"https://colab.research.google.com/github/haizanazlin/CDSP-Project---Malaysian-Crime-Dasboard/blob/main/Crime_Malaysia.ipynb\" target=\"_parent\"><img src=\"https://colab.research.google.com/assets/colab-badge.svg\" alt=\"Open In Colab\"/></a>"
      ]
    },
    {
      "cell_type": "code",
      "source": [
        "from google.colab import files\n",
        "uploaded = files.upload()"
      ],
      "metadata": {
        "colab": {
          "base_uri": "https://localhost:8080/",
          "height": 73
        },
        "id": "SeTRgcs0qI1M",
        "outputId": "e5bb80e1-ec93-4a81-ff9a-c1e4821b299f"
      },
      "execution_count": null,
      "outputs": [
        {
          "output_type": "display_data",
          "data": {
            "text/plain": [
              "<IPython.core.display.HTML object>"
            ],
            "text/html": [
              "\n",
              "     <input type=\"file\" id=\"files-31616503-5c67-4235-a96e-d96d00b2ecd5\" name=\"files[]\" multiple disabled\n",
              "        style=\"border:none\" />\n",
              "     <output id=\"result-31616503-5c67-4235-a96e-d96d00b2ecd5\">\n",
              "      Upload widget is only available when the cell has been executed in the\n",
              "      current browser session. Please rerun this cell to enable.\n",
              "      </output>\n",
              "      <script>// Copyright 2017 Google LLC\n",
              "//\n",
              "// Licensed under the Apache License, Version 2.0 (the \"License\");\n",
              "// you may not use this file except in compliance with the License.\n",
              "// You may obtain a copy of the License at\n",
              "//\n",
              "//      http://www.apache.org/licenses/LICENSE-2.0\n",
              "//\n",
              "// Unless required by applicable law or agreed to in writing, software\n",
              "// distributed under the License is distributed on an \"AS IS\" BASIS,\n",
              "// WITHOUT WARRANTIES OR CONDITIONS OF ANY KIND, either express or implied.\n",
              "// See the License for the specific language governing permissions and\n",
              "// limitations under the License.\n",
              "\n",
              "/**\n",
              " * @fileoverview Helpers for google.colab Python module.\n",
              " */\n",
              "(function(scope) {\n",
              "function span(text, styleAttributes = {}) {\n",
              "  const element = document.createElement('span');\n",
              "  element.textContent = text;\n",
              "  for (const key of Object.keys(styleAttributes)) {\n",
              "    element.style[key] = styleAttributes[key];\n",
              "  }\n",
              "  return element;\n",
              "}\n",
              "\n",
              "// Max number of bytes which will be uploaded at a time.\n",
              "const MAX_PAYLOAD_SIZE = 100 * 1024;\n",
              "\n",
              "function _uploadFiles(inputId, outputId) {\n",
              "  const steps = uploadFilesStep(inputId, outputId);\n",
              "  const outputElement = document.getElementById(outputId);\n",
              "  // Cache steps on the outputElement to make it available for the next call\n",
              "  // to uploadFilesContinue from Python.\n",
              "  outputElement.steps = steps;\n",
              "\n",
              "  return _uploadFilesContinue(outputId);\n",
              "}\n",
              "\n",
              "// This is roughly an async generator (not supported in the browser yet),\n",
              "// where there are multiple asynchronous steps and the Python side is going\n",
              "// to poll for completion of each step.\n",
              "// This uses a Promise to block the python side on completion of each step,\n",
              "// then passes the result of the previous step as the input to the next step.\n",
              "function _uploadFilesContinue(outputId) {\n",
              "  const outputElement = document.getElementById(outputId);\n",
              "  const steps = outputElement.steps;\n",
              "\n",
              "  const next = steps.next(outputElement.lastPromiseValue);\n",
              "  return Promise.resolve(next.value.promise).then((value) => {\n",
              "    // Cache the last promise value to make it available to the next\n",
              "    // step of the generator.\n",
              "    outputElement.lastPromiseValue = value;\n",
              "    return next.value.response;\n",
              "  });\n",
              "}\n",
              "\n",
              "/**\n",
              " * Generator function which is called between each async step of the upload\n",
              " * process.\n",
              " * @param {string} inputId Element ID of the input file picker element.\n",
              " * @param {string} outputId Element ID of the output display.\n",
              " * @return {!Iterable<!Object>} Iterable of next steps.\n",
              " */\n",
              "function* uploadFilesStep(inputId, outputId) {\n",
              "  const inputElement = document.getElementById(inputId);\n",
              "  inputElement.disabled = false;\n",
              "\n",
              "  const outputElement = document.getElementById(outputId);\n",
              "  outputElement.innerHTML = '';\n",
              "\n",
              "  const pickedPromise = new Promise((resolve) => {\n",
              "    inputElement.addEventListener('change', (e) => {\n",
              "      resolve(e.target.files);\n",
              "    });\n",
              "  });\n",
              "\n",
              "  const cancel = document.createElement('button');\n",
              "  inputElement.parentElement.appendChild(cancel);\n",
              "  cancel.textContent = 'Cancel upload';\n",
              "  const cancelPromise = new Promise((resolve) => {\n",
              "    cancel.onclick = () => {\n",
              "      resolve(null);\n",
              "    };\n",
              "  });\n",
              "\n",
              "  // Wait for the user to pick the files.\n",
              "  const files = yield {\n",
              "    promise: Promise.race([pickedPromise, cancelPromise]),\n",
              "    response: {\n",
              "      action: 'starting',\n",
              "    }\n",
              "  };\n",
              "\n",
              "  cancel.remove();\n",
              "\n",
              "  // Disable the input element since further picks are not allowed.\n",
              "  inputElement.disabled = true;\n",
              "\n",
              "  if (!files) {\n",
              "    return {\n",
              "      response: {\n",
              "        action: 'complete',\n",
              "      }\n",
              "    };\n",
              "  }\n",
              "\n",
              "  for (const file of files) {\n",
              "    const li = document.createElement('li');\n",
              "    li.append(span(file.name, {fontWeight: 'bold'}));\n",
              "    li.append(span(\n",
              "        `(${file.type || 'n/a'}) - ${file.size} bytes, ` +\n",
              "        `last modified: ${\n",
              "            file.lastModifiedDate ? file.lastModifiedDate.toLocaleDateString() :\n",
              "                                    'n/a'} - `));\n",
              "    const percent = span('0% done');\n",
              "    li.appendChild(percent);\n",
              "\n",
              "    outputElement.appendChild(li);\n",
              "\n",
              "    const fileDataPromise = new Promise((resolve) => {\n",
              "      const reader = new FileReader();\n",
              "      reader.onload = (e) => {\n",
              "        resolve(e.target.result);\n",
              "      };\n",
              "      reader.readAsArrayBuffer(file);\n",
              "    });\n",
              "    // Wait for the data to be ready.\n",
              "    let fileData = yield {\n",
              "      promise: fileDataPromise,\n",
              "      response: {\n",
              "        action: 'continue',\n",
              "      }\n",
              "    };\n",
              "\n",
              "    // Use a chunked sending to avoid message size limits. See b/62115660.\n",
              "    let position = 0;\n",
              "    do {\n",
              "      const length = Math.min(fileData.byteLength - position, MAX_PAYLOAD_SIZE);\n",
              "      const chunk = new Uint8Array(fileData, position, length);\n",
              "      position += length;\n",
              "\n",
              "      const base64 = btoa(String.fromCharCode.apply(null, chunk));\n",
              "      yield {\n",
              "        response: {\n",
              "          action: 'append',\n",
              "          file: file.name,\n",
              "          data: base64,\n",
              "        },\n",
              "      };\n",
              "\n",
              "      let percentDone = fileData.byteLength === 0 ?\n",
              "          100 :\n",
              "          Math.round((position / fileData.byteLength) * 100);\n",
              "      percent.textContent = `${percentDone}% done`;\n",
              "\n",
              "    } while (position < fileData.byteLength);\n",
              "  }\n",
              "\n",
              "  // All done.\n",
              "  yield {\n",
              "    response: {\n",
              "      action: 'complete',\n",
              "    }\n",
              "  };\n",
              "}\n",
              "\n",
              "scope.google = scope.google || {};\n",
              "scope.google.colab = scope.google.colab || {};\n",
              "scope.google.colab._files = {\n",
              "  _uploadFiles,\n",
              "  _uploadFilesContinue,\n",
              "};\n",
              "})(self);\n",
              "</script> "
            ]
          },
          "metadata": {}
        },
        {
          "output_type": "stream",
          "name": "stdout",
          "text": [
            "Saving Crime_Malaysia.xlsx to Crime_Malaysia (1).xlsx\n"
          ]
        }
      ]
    },
    {
      "cell_type": "code",
      "source": [
        "import pandas as pd\n",
        "\n",
        "#read the excel file\n",
        "df = pd.read_excel(\"Crime_Malaysia (1).xlsx\")\n",
        "\n",
        "df.head()"
      ],
      "metadata": {
        "colab": {
          "base_uri": "https://localhost:8080/",
          "height": 206
        },
        "id": "pYaQRPHy00-u",
        "outputId": "4d3521b1-71d3-488e-b224-bbbbd957be2f"
      },
      "execution_count": null,
      "outputs": [
        {
          "output_type": "execute_result",
          "data": {
            "text/plain": [
              "   State Categories Category            Type           Types       Date  Year  \\\n",
              "0  Johor    assault  Assault  causing_injury  Causing_Injury 2016-01-01  2016   \n",
              "1  Johor    assault  Assault  causing_injury  Causing_Injury 2017-01-01  2017   \n",
              "2  Johor    assault  Assault  causing_injury  Causing_Injury 2018-01-01  2018   \n",
              "3  Johor    assault  Assault  causing_injury  Causing_Injury 2019-01-01  2019   \n",
              "4  Johor    assault  Assault  causing_injury  Causing_Injury 2020-01-01  2020   \n",
              "\n",
              "   Total Crimes  \n",
              "0            39  \n",
              "1            41  \n",
              "2            28  \n",
              "3            41  \n",
              "4            43  "
            ],
            "text/html": [
              "\n",
              "  <div id=\"df-31d0011c-f2dd-4706-9409-b60fbdfae11f\" class=\"colab-df-container\">\n",
              "    <div>\n",
              "<style scoped>\n",
              "    .dataframe tbody tr th:only-of-type {\n",
              "        vertical-align: middle;\n",
              "    }\n",
              "\n",
              "    .dataframe tbody tr th {\n",
              "        vertical-align: top;\n",
              "    }\n",
              "\n",
              "    .dataframe thead th {\n",
              "        text-align: right;\n",
              "    }\n",
              "</style>\n",
              "<table border=\"1\" class=\"dataframe\">\n",
              "  <thead>\n",
              "    <tr style=\"text-align: right;\">\n",
              "      <th></th>\n",
              "      <th>State</th>\n",
              "      <th>Categories</th>\n",
              "      <th>Category</th>\n",
              "      <th>Type</th>\n",
              "      <th>Types</th>\n",
              "      <th>Date</th>\n",
              "      <th>Year</th>\n",
              "      <th>Total Crimes</th>\n",
              "    </tr>\n",
              "  </thead>\n",
              "  <tbody>\n",
              "    <tr>\n",
              "      <th>0</th>\n",
              "      <td>Johor</td>\n",
              "      <td>assault</td>\n",
              "      <td>Assault</td>\n",
              "      <td>causing_injury</td>\n",
              "      <td>Causing_Injury</td>\n",
              "      <td>2016-01-01</td>\n",
              "      <td>2016</td>\n",
              "      <td>39</td>\n",
              "    </tr>\n",
              "    <tr>\n",
              "      <th>1</th>\n",
              "      <td>Johor</td>\n",
              "      <td>assault</td>\n",
              "      <td>Assault</td>\n",
              "      <td>causing_injury</td>\n",
              "      <td>Causing_Injury</td>\n",
              "      <td>2017-01-01</td>\n",
              "      <td>2017</td>\n",
              "      <td>41</td>\n",
              "    </tr>\n",
              "    <tr>\n",
              "      <th>2</th>\n",
              "      <td>Johor</td>\n",
              "      <td>assault</td>\n",
              "      <td>Assault</td>\n",
              "      <td>causing_injury</td>\n",
              "      <td>Causing_Injury</td>\n",
              "      <td>2018-01-01</td>\n",
              "      <td>2018</td>\n",
              "      <td>28</td>\n",
              "    </tr>\n",
              "    <tr>\n",
              "      <th>3</th>\n",
              "      <td>Johor</td>\n",
              "      <td>assault</td>\n",
              "      <td>Assault</td>\n",
              "      <td>causing_injury</td>\n",
              "      <td>Causing_Injury</td>\n",
              "      <td>2019-01-01</td>\n",
              "      <td>2019</td>\n",
              "      <td>41</td>\n",
              "    </tr>\n",
              "    <tr>\n",
              "      <th>4</th>\n",
              "      <td>Johor</td>\n",
              "      <td>assault</td>\n",
              "      <td>Assault</td>\n",
              "      <td>causing_injury</td>\n",
              "      <td>Causing_Injury</td>\n",
              "      <td>2020-01-01</td>\n",
              "      <td>2020</td>\n",
              "      <td>43</td>\n",
              "    </tr>\n",
              "  </tbody>\n",
              "</table>\n",
              "</div>\n",
              "    <div class=\"colab-df-buttons\">\n",
              "\n",
              "  <div class=\"colab-df-container\">\n",
              "    <button class=\"colab-df-convert\" onclick=\"convertToInteractive('df-31d0011c-f2dd-4706-9409-b60fbdfae11f')\"\n",
              "            title=\"Convert this dataframe to an interactive table.\"\n",
              "            style=\"display:none;\">\n",
              "\n",
              "  <svg xmlns=\"http://www.w3.org/2000/svg\" height=\"24px\" viewBox=\"0 -960 960 960\">\n",
              "    <path d=\"M120-120v-720h720v720H120Zm60-500h600v-160H180v160Zm220 220h160v-160H400v160Zm0 220h160v-160H400v160ZM180-400h160v-160H180v160Zm440 0h160v-160H620v160ZM180-180h160v-160H180v160Zm440 0h160v-160H620v160Z\"/>\n",
              "  </svg>\n",
              "    </button>\n",
              "\n",
              "  <style>\n",
              "    .colab-df-container {\n",
              "      display:flex;\n",
              "      gap: 12px;\n",
              "    }\n",
              "\n",
              "    .colab-df-convert {\n",
              "      background-color: #E8F0FE;\n",
              "      border: none;\n",
              "      border-radius: 50%;\n",
              "      cursor: pointer;\n",
              "      display: none;\n",
              "      fill: #1967D2;\n",
              "      height: 32px;\n",
              "      padding: 0 0 0 0;\n",
              "      width: 32px;\n",
              "    }\n",
              "\n",
              "    .colab-df-convert:hover {\n",
              "      background-color: #E2EBFA;\n",
              "      box-shadow: 0px 1px 2px rgba(60, 64, 67, 0.3), 0px 1px 3px 1px rgba(60, 64, 67, 0.15);\n",
              "      fill: #174EA6;\n",
              "    }\n",
              "\n",
              "    .colab-df-buttons div {\n",
              "      margin-bottom: 4px;\n",
              "    }\n",
              "\n",
              "    [theme=dark] .colab-df-convert {\n",
              "      background-color: #3B4455;\n",
              "      fill: #D2E3FC;\n",
              "    }\n",
              "\n",
              "    [theme=dark] .colab-df-convert:hover {\n",
              "      background-color: #434B5C;\n",
              "      box-shadow: 0px 1px 3px 1px rgba(0, 0, 0, 0.15);\n",
              "      filter: drop-shadow(0px 1px 2px rgba(0, 0, 0, 0.3));\n",
              "      fill: #FFFFFF;\n",
              "    }\n",
              "  </style>\n",
              "\n",
              "    <script>\n",
              "      const buttonEl =\n",
              "        document.querySelector('#df-31d0011c-f2dd-4706-9409-b60fbdfae11f button.colab-df-convert');\n",
              "      buttonEl.style.display =\n",
              "        google.colab.kernel.accessAllowed ? 'block' : 'none';\n",
              "\n",
              "      async function convertToInteractive(key) {\n",
              "        const element = document.querySelector('#df-31d0011c-f2dd-4706-9409-b60fbdfae11f');\n",
              "        const dataTable =\n",
              "          await google.colab.kernel.invokeFunction('convertToInteractive',\n",
              "                                                    [key], {});\n",
              "        if (!dataTable) return;\n",
              "\n",
              "        const docLinkHtml = 'Like what you see? Visit the ' +\n",
              "          '<a target=\"_blank\" href=https://colab.research.google.com/notebooks/data_table.ipynb>data table notebook</a>'\n",
              "          + ' to learn more about interactive tables.';\n",
              "        element.innerHTML = '';\n",
              "        dataTable['output_type'] = 'display_data';\n",
              "        await google.colab.output.renderOutput(dataTable, element);\n",
              "        const docLink = document.createElement('div');\n",
              "        docLink.innerHTML = docLinkHtml;\n",
              "        element.appendChild(docLink);\n",
              "      }\n",
              "    </script>\n",
              "  </div>\n",
              "\n",
              "\n",
              "    <div id=\"df-740cb415-2426-4601-af38-0c4e7276db8c\">\n",
              "      <button class=\"colab-df-quickchart\" onclick=\"quickchart('df-740cb415-2426-4601-af38-0c4e7276db8c')\"\n",
              "                title=\"Suggest charts\"\n",
              "                style=\"display:none;\">\n",
              "\n",
              "<svg xmlns=\"http://www.w3.org/2000/svg\" height=\"24px\"viewBox=\"0 0 24 24\"\n",
              "     width=\"24px\">\n",
              "    <g>\n",
              "        <path d=\"M19 3H5c-1.1 0-2 .9-2 2v14c0 1.1.9 2 2 2h14c1.1 0 2-.9 2-2V5c0-1.1-.9-2-2-2zM9 17H7v-7h2v7zm4 0h-2V7h2v10zm4 0h-2v-4h2v4z\"/>\n",
              "    </g>\n",
              "</svg>\n",
              "      </button>\n",
              "\n",
              "<style>\n",
              "  .colab-df-quickchart {\n",
              "      --bg-color: #E8F0FE;\n",
              "      --fill-color: #1967D2;\n",
              "      --hover-bg-color: #E2EBFA;\n",
              "      --hover-fill-color: #174EA6;\n",
              "      --disabled-fill-color: #AAA;\n",
              "      --disabled-bg-color: #DDD;\n",
              "  }\n",
              "\n",
              "  [theme=dark] .colab-df-quickchart {\n",
              "      --bg-color: #3B4455;\n",
              "      --fill-color: #D2E3FC;\n",
              "      --hover-bg-color: #434B5C;\n",
              "      --hover-fill-color: #FFFFFF;\n",
              "      --disabled-bg-color: #3B4455;\n",
              "      --disabled-fill-color: #666;\n",
              "  }\n",
              "\n",
              "  .colab-df-quickchart {\n",
              "    background-color: var(--bg-color);\n",
              "    border: none;\n",
              "    border-radius: 50%;\n",
              "    cursor: pointer;\n",
              "    display: none;\n",
              "    fill: var(--fill-color);\n",
              "    height: 32px;\n",
              "    padding: 0;\n",
              "    width: 32px;\n",
              "  }\n",
              "\n",
              "  .colab-df-quickchart:hover {\n",
              "    background-color: var(--hover-bg-color);\n",
              "    box-shadow: 0 1px 2px rgba(60, 64, 67, 0.3), 0 1px 3px 1px rgba(60, 64, 67, 0.15);\n",
              "    fill: var(--button-hover-fill-color);\n",
              "  }\n",
              "\n",
              "  .colab-df-quickchart-complete:disabled,\n",
              "  .colab-df-quickchart-complete:disabled:hover {\n",
              "    background-color: var(--disabled-bg-color);\n",
              "    fill: var(--disabled-fill-color);\n",
              "    box-shadow: none;\n",
              "  }\n",
              "\n",
              "  .colab-df-spinner {\n",
              "    border: 2px solid var(--fill-color);\n",
              "    border-color: transparent;\n",
              "    border-bottom-color: var(--fill-color);\n",
              "    animation:\n",
              "      spin 1s steps(1) infinite;\n",
              "  }\n",
              "\n",
              "  @keyframes spin {\n",
              "    0% {\n",
              "      border-color: transparent;\n",
              "      border-bottom-color: var(--fill-color);\n",
              "      border-left-color: var(--fill-color);\n",
              "    }\n",
              "    20% {\n",
              "      border-color: transparent;\n",
              "      border-left-color: var(--fill-color);\n",
              "      border-top-color: var(--fill-color);\n",
              "    }\n",
              "    30% {\n",
              "      border-color: transparent;\n",
              "      border-left-color: var(--fill-color);\n",
              "      border-top-color: var(--fill-color);\n",
              "      border-right-color: var(--fill-color);\n",
              "    }\n",
              "    40% {\n",
              "      border-color: transparent;\n",
              "      border-right-color: var(--fill-color);\n",
              "      border-top-color: var(--fill-color);\n",
              "    }\n",
              "    60% {\n",
              "      border-color: transparent;\n",
              "      border-right-color: var(--fill-color);\n",
              "    }\n",
              "    80% {\n",
              "      border-color: transparent;\n",
              "      border-right-color: var(--fill-color);\n",
              "      border-bottom-color: var(--fill-color);\n",
              "    }\n",
              "    90% {\n",
              "      border-color: transparent;\n",
              "      border-bottom-color: var(--fill-color);\n",
              "    }\n",
              "  }\n",
              "</style>\n",
              "\n",
              "      <script>\n",
              "        async function quickchart(key) {\n",
              "          const quickchartButtonEl =\n",
              "            document.querySelector('#' + key + ' button');\n",
              "          quickchartButtonEl.disabled = true;  // To prevent multiple clicks.\n",
              "          quickchartButtonEl.classList.add('colab-df-spinner');\n",
              "          try {\n",
              "            const charts = await google.colab.kernel.invokeFunction(\n",
              "                'suggestCharts', [key], {});\n",
              "          } catch (error) {\n",
              "            console.error('Error during call to suggestCharts:', error);\n",
              "          }\n",
              "          quickchartButtonEl.classList.remove('colab-df-spinner');\n",
              "          quickchartButtonEl.classList.add('colab-df-quickchart-complete');\n",
              "        }\n",
              "        (() => {\n",
              "          let quickchartButtonEl =\n",
              "            document.querySelector('#df-740cb415-2426-4601-af38-0c4e7276db8c button');\n",
              "          quickchartButtonEl.style.display =\n",
              "            google.colab.kernel.accessAllowed ? 'block' : 'none';\n",
              "        })();\n",
              "      </script>\n",
              "    </div>\n",
              "\n",
              "    </div>\n",
              "  </div>\n"
            ],
            "application/vnd.google.colaboratory.intrinsic+json": {
              "type": "dataframe",
              "variable_name": "df",
              "summary": "{\n  \"name\": \"df\",\n  \"rows\": 14976,\n  \"fields\": [\n    {\n      \"column\": \"State\",\n      \"properties\": {\n        \"dtype\": \"category\",\n        \"num_unique_values\": 14,\n        \"samples\": [\n          \"Sabah\",\n          \"Selangor\",\n          \"Johor\"\n        ],\n        \"semantic_type\": \"\",\n        \"description\": \"\"\n      }\n    },\n    {\n      \"column\": \"Categories\",\n      \"properties\": {\n        \"dtype\": \"category\",\n        \"num_unique_values\": 2,\n        \"samples\": [\n          \"property\",\n          \"assault\"\n        ],\n        \"semantic_type\": \"\",\n        \"description\": \"\"\n      }\n    },\n    {\n      \"column\": \"Category\",\n      \"properties\": {\n        \"dtype\": \"category\",\n        \"num_unique_values\": 2,\n        \"samples\": [\n          \"Property\",\n          \"Assault\"\n        ],\n        \"semantic_type\": \"\",\n        \"description\": \"\"\n      }\n    },\n    {\n      \"column\": \"Type\",\n      \"properties\": {\n        \"dtype\": \"category\",\n        \"num_unique_values\": 12,\n        \"samples\": [\n          \"theft_vehicle_motorcar\",\n          \"theft_vehicle_lorry\"\n        ],\n        \"semantic_type\": \"\",\n        \"description\": \"\"\n      }\n    },\n    {\n      \"column\": \"Types\",\n      \"properties\": {\n        \"dtype\": \"category\",\n        \"num_unique_values\": 12,\n        \"samples\": [\n          \"Theft_Vehicle_Motorcar\",\n          \"Theft_Vehicle_Lorry\"\n        ],\n        \"semantic_type\": \"\",\n        \"description\": \"\"\n      }\n    },\n    {\n      \"column\": \"Date\",\n      \"properties\": {\n        \"dtype\": \"date\",\n        \"min\": \"2016-01-01 00:00:00\",\n        \"max\": \"2023-01-01 00:00:00\",\n        \"num_unique_values\": 8,\n        \"samples\": [\n          \"2017-01-01 00:00:00\",\n          \"2021-01-01 00:00:00\"\n        ],\n        \"semantic_type\": \"\",\n        \"description\": \"\"\n      }\n    },\n    {\n      \"column\": \"Year\",\n      \"properties\": {\n        \"dtype\": \"number\",\n        \"std\": 2,\n        \"min\": 2016,\n        \"max\": 2023,\n        \"num_unique_values\": 8,\n        \"samples\": [\n          2017,\n          2021\n        ],\n        \"semantic_type\": \"\",\n        \"description\": \"\"\n      }\n    },\n    {\n      \"column\": \"Total Crimes\",\n      \"properties\": {\n        \"dtype\": \"number\",\n        \"std\": 100,\n        \"min\": 0,\n        \"max\": 2263,\n        \"num_unique_values\": 575,\n        \"samples\": [\n          40,\n          259\n        ],\n        \"semantic_type\": \"\",\n        \"description\": \"\"\n      }\n    }\n  ]\n}"
            }
          },
          "metadata": {},
          "execution_count": 9
        }
      ]
    },
    {
      "cell_type": "code",
      "source": [
        "df.info\n",
        "\n",
        "print(df.columns)"
      ],
      "metadata": {
        "colab": {
          "base_uri": "https://localhost:8080/"
        },
        "id": "UsuywjtI3TIX",
        "outputId": "b51bd03a-7201-4791-bae4-b94f87f9e8eb"
      },
      "execution_count": null,
      "outputs": [
        {
          "output_type": "stream",
          "name": "stdout",
          "text": [
            "Index(['State', 'Categories', 'Category', 'Type', 'Types', 'Date', 'Year',\n",
            "       'Total Crimes'],\n",
            "      dtype='object')\n"
          ]
        }
      ]
    },
    {
      "cell_type": "code",
      "source": [
        "#summary statistic\n",
        "\n",
        "print(\"\\nSummary Statistics:\")\n",
        "print(df.describe(include='all'))\n",
        "print(\"\\nData Info:\")\n",
        "print(df.info())"
      ],
      "metadata": {
        "colab": {
          "base_uri": "https://localhost:8080/"
        },
        "id": "2Rgk7Ykw3pL9",
        "outputId": "53db8880-8ec5-43b9-d13f-3f30f492f24a"
      },
      "execution_count": null,
      "outputs": [
        {
          "output_type": "stream",
          "name": "stdout",
          "text": [
            "\n",
            "Summary Statistics:\n",
            "          State Categories Category            Type           Types  \\\n",
            "count     14976      14976    14976           14976           14976   \n",
            "unique       14          2        2              12              12   \n",
            "top     Sarawak    assault  Assault  causing_injury  Causing_Injury   \n",
            "freq       2688       8736     8736            1248            1248   \n",
            "mean        NaN        NaN      NaN             NaN             NaN   \n",
            "min         NaN        NaN      NaN             NaN             NaN   \n",
            "25%         NaN        NaN      NaN             NaN             NaN   \n",
            "50%         NaN        NaN      NaN             NaN             NaN   \n",
            "75%         NaN        NaN      NaN             NaN             NaN   \n",
            "max         NaN        NaN      NaN             NaN             NaN   \n",
            "std         NaN        NaN      NaN             NaN             NaN   \n",
            "\n",
            "                                 Date          Year  Total Crimes  \n",
            "count                           14976  14976.000000  14976.000000  \n",
            "unique                            NaN           NaN           NaN  \n",
            "top                               NaN           NaN           NaN  \n",
            "freq                              NaN           NaN           NaN  \n",
            "mean    2019-07-02 17:59:59.999999744   2019.500000     40.431157  \n",
            "min               2016-01-01 00:00:00   2016.000000      0.000000  \n",
            "25%               2017-10-01 18:00:00   2017.750000      0.000000  \n",
            "50%               2019-07-02 12:00:00   2019.500000      6.000000  \n",
            "75%               2021-04-02 06:00:00   2021.250000     31.000000  \n",
            "max               2023-01-01 00:00:00   2023.000000   2263.000000  \n",
            "std                               NaN      2.291364    100.147130  \n",
            "\n",
            "Data Info:\n",
            "<class 'pandas.core.frame.DataFrame'>\n",
            "RangeIndex: 14976 entries, 0 to 14975\n",
            "Data columns (total 8 columns):\n",
            " #   Column        Non-Null Count  Dtype         \n",
            "---  ------        --------------  -----         \n",
            " 0   State         14976 non-null  object        \n",
            " 1   Categories    14976 non-null  object        \n",
            " 2   Category      14976 non-null  object        \n",
            " 3   Type          14976 non-null  object        \n",
            " 4   Types         14976 non-null  object        \n",
            " 5   Date          14976 non-null  datetime64[ns]\n",
            " 6   Year          14976 non-null  int64         \n",
            " 7   Total Crimes  14976 non-null  int64         \n",
            "dtypes: datetime64[ns](1), int64(2), object(5)\n",
            "memory usage: 936.1+ KB\n",
            "None\n"
          ]
        }
      ]
    },
    {
      "cell_type": "code",
      "source": [
        "# Filter: Crimes in Selangor\n",
        "df_selangor = df[df['State'] == 'Selangor']\n",
        "\n",
        "print(df_selangor)"
      ],
      "metadata": {
        "colab": {
          "base_uri": "https://localhost:8080/"
        },
        "id": "u_yhHac439pG",
        "outputId": "b4f66ae0-2513-4feb-9171-d27fec48d3d0"
      },
      "execution_count": null,
      "outputs": [
        {
          "output_type": "stream",
          "name": "stdout",
          "text": [
            "          State Categories  Category                      Type  \\\n",
            "12288  Selangor    assault   Assault            causing_injury   \n",
            "12289  Selangor    assault   Assault            causing_injury   \n",
            "12290  Selangor    assault   Assault            causing_injury   \n",
            "12291  Selangor    assault   Assault            causing_injury   \n",
            "12292  Selangor    assault   Assault            causing_injury   \n",
            "...         ...        ...       ...                       ...   \n",
            "13723  Selangor   property  Property    theft_vehicle_motorcar   \n",
            "13724  Selangor   property  Property    theft_vehicle_motorcar   \n",
            "13725  Selangor   property  Property  theft_vehicle_motorcycle   \n",
            "13726  Selangor   property  Property  theft_vehicle_motorcycle   \n",
            "13727  Selangor   property  Property  theft_vehicle_motorcycle   \n",
            "\n",
            "                          Types       Date  Year  Total Crimes  \n",
            "12288            Causing_Injury 2016-01-01  2016            66  \n",
            "12289            Causing_Injury 2017-01-01  2017            86  \n",
            "12290            Causing_Injury 2018-01-01  2018            96  \n",
            "12291            Causing_Injury 2019-01-01  2019            47  \n",
            "12292            Causing_Injury 2020-01-01  2020            76  \n",
            "...                         ...        ...   ...           ...  \n",
            "13723    Theft_Vehicle_Motorcar 2022-01-01  2022            27  \n",
            "13724    Theft_Vehicle_Motorcar 2023-01-01  2023            39  \n",
            "13725  Theft_Vehicle_Motorcycle 2021-01-01  2021           102  \n",
            "13726  Theft_Vehicle_Motorcycle 2022-01-01  2022           141  \n",
            "13727  Theft_Vehicle_Motorcycle 2023-01-01  2023           171  \n",
            "\n",
            "[1440 rows x 8 columns]\n"
          ]
        }
      ]
    },
    {
      "cell_type": "code",
      "source": [
        "# Group by State and sum total crimes\n",
        "crimes_by_state = df.groupby('State')['Total Crimes'].sum().sort_values(ascending=False)\n",
        "print(\"\\nTotal Crimes by State:\\n\", crimes_by_state)"
      ],
      "metadata": {
        "colab": {
          "base_uri": "https://localhost:8080/"
        },
        "id": "SQoXd8uU4L9m",
        "outputId": "e5cdddfb-3e06-4778-d1f6-c0a494768349"
      },
      "execution_count": null,
      "outputs": [
        {
          "output_type": "stream",
          "name": "stdout",
          "text": [
            "\n",
            "Total Crimes by State:\n",
            " State\n",
            "Selangor             157455\n",
            "W.P. Kuala Lumpur     77701\n",
            "Johor                 65963\n",
            "Kedah                 43185\n",
            "Sarawak               43136\n",
            "Sabah                 38944\n",
            "Pulau Pinang          36653\n",
            "Perak                 34352\n",
            "Kelantan              25348\n",
            "Negeri Sembilan       23392\n",
            "Pahang                22385\n",
            "Melaka                17980\n",
            "Terengganu            14984\n",
            "Perlis                 4019\n",
            "Name: Total Crimes, dtype: int64\n"
          ]
        }
      ]
    },
    {
      "cell_type": "code",
      "source": [
        "# Group by Year and Category\n",
        "crimes_by_year_category = df.groupby(['Year', 'Category'])['Total Crimes'].sum().reset_index()\n",
        "\n",
        "print(crimes_by_year_category)"
      ],
      "metadata": {
        "colab": {
          "base_uri": "https://localhost:8080/"
        },
        "id": "H_HGMrPy4pK0",
        "outputId": "f36afd7e-d8d7-462c-b719-ddeeb805ba2e"
      },
      "execution_count": null,
      "outputs": [
        {
          "output_type": "stream",
          "name": "stdout",
          "text": [
            "    Year  Category  Total Crimes\n",
            "0   2016   Assault         22327\n",
            "1   2016  Property         90028\n",
            "2   2017   Assault         21366\n",
            "3   2017  Property         77804\n",
            "4   2018   Assault         16902\n",
            "5   2018  Property         71760\n",
            "6   2019   Assault         16489\n",
            "7   2019  Property         66967\n",
            "8   2020   Assault         13279\n",
            "9   2020  Property         52344\n",
            "10  2021   Assault         11495\n",
            "11  2021  Property         41479\n",
            "12  2022   Assault         10348\n",
            "13  2022  Property         40465\n",
            "14  2023   Assault         10453\n",
            "15  2023  Property         41991\n"
          ]
        }
      ]
    },
    {
      "cell_type": "code",
      "source": [
        "import matplotlib.pyplot as plt\n",
        "import seaborn as sns\n",
        "\n",
        "\n",
        "# Line chart: Total crimes by year\n",
        "plt.figure(figsize=(8,4))\n",
        "df.groupby('Year')['Total Crimes'].sum().plot(kind='line', marker='o', color='red')\n",
        "plt.title('Total Crimes Over Years')\n",
        "plt.xlabel('Year')\n",
        "plt.ylabel('Total Crimes')\n",
        "plt.grid(True)\n",
        "plt.tight_layout()\n",
        "plt.show()"
      ],
      "metadata": {
        "colab": {
          "base_uri": "https://localhost:8080/",
          "height": 407
        },
        "id": "P3Mmxin15QnO",
        "outputId": "674ee273-6af9-46b1-e263-d2e3f1f56d33"
      },
      "execution_count": null,
      "outputs": [
        {
          "output_type": "display_data",
          "data": {
            "text/plain": [
              "<Figure size 800x400 with 1 Axes>"
            ],
            "image/png": "[encoded data removed]"
          },
          "metadata": {}
        }
      ]
    },
    {
      "cell_type": "code",
      "source": [
        "# Bar chart: Total crimes by state\n",
        "plt.figure(figsize=(12,6))\n",
        "crimes_by_state.plot(kind='bar', color='skyblue')\n",
        "plt.title('Total Crimes by State')\n",
        "plt.ylabel('Total Crimes')\n",
        "plt.xticks(rotation=45)\n",
        "plt.tight_layout()\n",
        "plt.show()"
      ],
      "metadata": {
        "colab": {
          "base_uri": "https://localhost:8080/",
          "height": 607
        },
        "id": "r7g3n1095lSv",
        "outputId": "b2dface5-2936-40f4-e5a4-9bf600ad94bc"
      },
      "execution_count": null,
      "outputs": [
        {
          "output_type": "display_data",
          "data": {
            "text/plain": [
              "<Figure size 1200x600 with 1 Axes>"
            ],
            "image/png": "[encoded data removed]"
          },
          "metadata": {}
        }
      ]
    },
    {
      "cell_type": "code",
      "source": [
        "# Pie chart: Crime category distribution\n",
        "category_dist = df.groupby('Category')['Total Crimes'].sum()\n",
        "category_dist.plot.pie(autopct='%1.1f%%', startangle=90, shadow=True)\n",
        "plt.title('Crime Categories Distribution')\n",
        "plt.ylabel('')\n",
        "plt.tight_layout()\n",
        "plt.show()"
      ],
      "metadata": {
        "colab": {
          "base_uri": "https://localhost:8080/",
          "height": 487
        },
        "id": "iGW47d_z5pzU",
        "outputId": "d35cb8f9-944e-4c9b-a623-4bec73e9276d"
      },
      "execution_count": null,
      "outputs": [
        {
          "output_type": "display_data",
          "data": {
            "text/plain": [
              "<Figure size 640x480 with 1 Axes>"
            ],
            "image/png": "[encoded data removed]"
          },
          "metadata": {}
        }
      ]
    },
    {
      "cell_type": "code",
      "source": [
        "#correlation\n",
        "\n",
        "correlation = df.corr(numeric_only=True)\n",
        "print(\"\\nCorrelation Matrix:\\n\", correlation)\n",
        "sns.heatmap(correlation, annot=True, cmap='coolwarm')\n",
        "plt.title(\"Correlation Heatmap\")\n",
        "plt.tight_layout()\n",
        "plt.show()"
      ],
      "metadata": {
        "colab": {
          "base_uri": "https://localhost:8080/",
          "height": 574
        },
        "id": "zLcZs1JI5001",
        "outputId": "c3ed1755-11d6-441b-d9b9-f104bef579c6"
      },
      "execution_count": null,
      "outputs": [
        {
          "output_type": "stream",
          "name": "stdout",
          "text": [
            "\n",
            "Correlation Matrix:\n",
            "                   Year  Total Crimes\n",
            "Year          1.000000     -0.114374\n",
            "Total Crimes -0.114374      1.000000\n"
          ]
        },
        {
          "output_type": "display_data",
          "data": {
            "text/plain": [
              "<Figure size 640x480 with 2 Axes>"
            ],
            "image/png": "[encoded data removed]"
          },
          "metadata": {}
        }
      ]
    },
    {
      "cell_type": "code",
      "source": [
        "# Filter: Crimes in Perlis\n",
        "df_Perlis = df[df['State'] == 'Perlis']\n",
        "\n",
        "print(df_Perlis)"
      ],
      "metadata": {
        "colab": {
          "base_uri": "https://localhost:8080/"
        },
        "id": "WaW4wTG77GEN",
        "outputId": "7d7cbe12-1dec-4bd4-bb5c-fe7f73f407ca"
      },
      "execution_count": null,
      "outputs": [
        {
          "output_type": "stream",
          "name": "stdout",
          "text": [
            "       State Categories  Category                      Type  \\\n",
            "6912  Perlis    assault   Assault            causing_injury   \n",
            "6913  Perlis    assault   Assault            causing_injury   \n",
            "6914  Perlis    assault   Assault            causing_injury   \n",
            "6915  Perlis    assault   Assault            causing_injury   \n",
            "6916  Perlis    assault   Assault            causing_injury   \n",
            "...      ...        ...       ...                       ...   \n",
            "7195  Perlis   property  Property  theft_vehicle_motorcycle   \n",
            "7196  Perlis   property  Property  theft_vehicle_motorcycle   \n",
            "7197  Perlis   property  Property  theft_vehicle_motorcycle   \n",
            "7198  Perlis   property  Property  theft_vehicle_motorcycle   \n",
            "7199  Perlis   property  Property  theft_vehicle_motorcycle   \n",
            "\n",
            "                         Types       Date  Year  Total Crimes  \n",
            "6912            Causing_Injury 2016-01-01  2016            15  \n",
            "6913            Causing_Injury 2017-01-01  2017             8  \n",
            "6914            Causing_Injury 2018-01-01  2018            12  \n",
            "6915            Causing_Injury 2019-01-01  2019            11  \n",
            "6916            Causing_Injury 2020-01-01  2020            11  \n",
            "...                        ...        ...   ...           ...  \n",
            "7195  Theft_Vehicle_Motorcycle 2019-01-01  2019            12  \n",
            "7196  Theft_Vehicle_Motorcycle 2020-01-01  2020            19  \n",
            "7197  Theft_Vehicle_Motorcycle 2021-01-01  2021            16  \n",
            "7198  Theft_Vehicle_Motorcycle 2022-01-01  2022            15  \n",
            "7199  Theft_Vehicle_Motorcycle 2023-01-01  2023             7  \n",
            "\n",
            "[288 rows x 8 columns]\n"
          ]
        }
      ]
    }
  ]
}